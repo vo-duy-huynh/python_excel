{
  "nbformat": 4,
  "nbformat_minor": 0,
  "metadata": {
    "colab": {
      "provenance": [],
      "authorship_tag": "ABX9TyPQYpEFD0nXGTsXDJKv1YRV",
      "include_colab_link": true
    },
    "kernelspec": {
      "name": "python3",
      "display_name": "Python 3"
    },
    "language_info": {
      "name": "python"
    }
  },
  "cells": [
    {
      "cell_type": "markdown",
      "metadata": {
        "id": "view-in-github",
        "colab_type": "text"
      },
      "source": [
        "<a href=\"https://colab.research.google.com/github/vo-duy-huynh/python_excel/blob/main/convertdata.ipynb\" target=\"_parent\"><img src=\"https://colab.research.google.com/assets/colab-badge.svg\" alt=\"Open In Colab\"/></a>"
      ]
    },
    {
      "cell_type": "code",
      "source": [
        "from google.colab import drive\n",
        "drive.mount('/content/drive')"
      ],
      "metadata": {
        "colab": {
          "base_uri": "https://localhost:8080/"
        },
        "id": "LlqM475XXfSy",
        "outputId": "cd021047-eac6-4ab3-b7a4-c545155c50a5"
      },
      "execution_count": null,
      "outputs": [
        {
          "output_type": "stream",
          "name": "stdout",
          "text": [
            "Mounted at /content/drive\n"
          ]
        }
      ]
    },
    {
      "cell_type": "code",
      "source": [
        "import os\n",
        "path = '/content/drive/MyDrive/Python/'\n",
        "print(os.path.isdir(path))\n",
        "print(os.path.isfile(path+'P_Data_Extract_From_World_Development_Indicators.xlsx'))"
      ],
      "metadata": {
        "colab": {
          "base_uri": "https://localhost:8080/"
        },
        "id": "FcS9erbyXjMq",
        "outputId": "50392742-c33c-40ad-8377-964fe852ed70"
      },
      "execution_count": null,
      "outputs": [
        {
          "output_type": "stream",
          "name": "stdout",
          "text": [
            "True\n",
            "True\n"
          ]
        }
      ]
    },
    {
      "cell_type": "code",
      "execution_count": null,
      "metadata": {
        "id": "kXhMqlPLXC2t"
      },
      "outputs": [],
      "source": [
        "import pandas as pd\n",
        "import numpy as np"
      ]
    },
    {
      "cell_type": "code",
      "source": [
        "\n",
        "# Copy đường dẫn của file data ở trong drive, nếu là csv thì read_csv\n",
        "df = pd.read_excel(path+'P_Data_Extract_From_World_Development_Indicators.xlsx')"
      ],
      "metadata": {
        "id": "TvgF3L_LXH9L"
      },
      "execution_count": null,
      "outputs": []
    },
    {
      "cell_type": "code",
      "source": [
        "# Hàm chuyển đổi dữ liệu sang dạng long (long format)\n",
        "def df_long(df, id_vars, value_vars, var_name, value_name):\n",
        "    df = df.copy()\n",
        "    df = pd.melt(df, id_vars=id_vars, value_vars=value_vars,\n",
        "                 var_name=var_name, value_name=value_name)\n",
        "    return df"
      ],
      "metadata": {
        "id": "o4oUGyK3XKEL"
      },
      "execution_count": null,
      "outputs": []
    },
    {
      "cell_type": "code",
      "source": [
        "# Chuyển dữ liệu sang dạng long\n",
        "df_long1 = df_long(df, ['Country Name', 'Country Code', 'Series Name', 'Series Code'],\n",
        "                   df.columns[4:], 'Year', 'Value')"
      ],
      "metadata": {
        "id": "8X7DZRVYXRJL"
      },
      "execution_count": null,
      "outputs": []
    },
    {
      "cell_type": "code",
      "source": [
        "# Tiền xử lý dữ liệu\n",
        "df_long1['Year'] = df_long1['Year'].str.split(' ').str[0]\n",
        "df_long1['Value'] = df_long1['Value'].replace('..', 0)\n",
        "df_long1['Value'] = df_long1['Value'].astype(float)\n",
        "df_long1 = df_long1.sort_values(by=['Country Name', 'Series Code', 'Year'])\n",
        "df_long1 = df_long1.reset_index(drop=True)"
      ],
      "metadata": {
        "id": "AvXNsiibXUwq"
      },
      "execution_count": null,
      "outputs": []
    },
    {
      "cell_type": "code",
      "source": [
        "# Chuyển dữ liệu\n",
        "df_wide = df_long1.pivot(\n",
        "    index=['Country Name', 'Year'], columns='Series Code', values='Value')\n",
        "df_wide.reset_index(inplace=True)"
      ],
      "metadata": {
        "id": "7zeNsvQ-XWz6"
      },
      "execution_count": null,
      "outputs": []
    },
    {
      "cell_type": "code",
      "source": [
        "# Lưu dữ liệu\n",
        "df_wide.to_excel(path+'output_data.xlsx')"
      ],
      "metadata": {
        "id": "Zu941Dl_XYga"
      },
      "execution_count": null,
      "outputs": []
    },
    {
      "cell_type": "code",
      "source": [],
      "metadata": {
        "id": "heJTte8SXeFM"
      },
      "execution_count": null,
      "outputs": []
    }
  ]
}