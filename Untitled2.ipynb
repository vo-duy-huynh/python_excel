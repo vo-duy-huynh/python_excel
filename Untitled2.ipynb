{
  "nbformat": 4,
  "nbformat_minor": 0,
  "metadata": {
    "colab": {
      "provenance": [],
      "authorship_tag": "ABX9TyOYKZjPtN/JAv9R2bQOgBJt",
      "include_colab_link": true
    },
    "kernelspec": {
      "name": "python3",
      "display_name": "Python 3"
    },
    "language_info": {
      "name": "python"
    },
    "widgets": {
      "application/vnd.jupyter.widget-state+json": {
        "6f649f81e6d14637b4f8d1e5ec5392de": {
          "model_module": "@jupyter-widgets/controls",
          "model_name": "VBoxModel",
          "model_module_version": "1.5.0",
          "state": {
            "_dom_classes": [
              "widget-interact"
            ],
            "_model_module": "@jupyter-widgets/controls",
            "_model_module_version": "1.5.0",
            "_model_name": "VBoxModel",
            "_view_count": null,
            "_view_module": "@jupyter-widgets/controls",
            "_view_module_version": "1.5.0",
            "_view_name": "VBoxView",
            "box_style": "",
            "children": [
              "IPY_MODEL_5b852d19dbc748dcac378a8c2d51e8e7",
              "IPY_MODEL_b9243159efe2435aa185557c118a3fea",
              "IPY_MODEL_1646ec4239794de8b20a5e41d27015e9",
              "IPY_MODEL_711b16458ecf469fbc6b13646154dd3e"
            ],
            "layout": "IPY_MODEL_ffc7d07bd5994212894ca603c478125d"
          }
        },
        "5b852d19dbc748dcac378a8c2d51e8e7": {
          "model_module": "@jupyter-widgets/controls",
          "model_name": "DropdownModel",
          "model_module_version": "1.5.0",
          "state": {
            "_dom_classes": [],
            "_model_module": "@jupyter-widgets/controls",
            "_model_module_version": "1.5.0",
            "_model_name": "DropdownModel",
            "_options_labels": [
              "Australia",
              "Argentina",
              "Cambodia",
              "China",
              "Denmark",
              "France",
              "India",
              "Italy",
              "Japan",
              "Viet Nam"
            ],
            "_view_count": null,
            "_view_module": "@jupyter-widgets/controls",
            "_view_module_version": "1.5.0",
            "_view_name": "DropdownView",
            "description": "selected_country",
            "description_tooltip": null,
            "disabled": false,
            "index": 1,
            "layout": "IPY_MODEL_af21d33bd3534508b7b990013ea1bdde",
            "style": "IPY_MODEL_df843c73005b4d00bb2ed8a25f3b14a6"
          }
        },
        "b9243159efe2435aa185557c118a3fea": {
          "model_module": "@jupyter-widgets/controls",
          "model_name": "DropdownModel",
          "model_module_version": "1.5.0",
          "state": {
            "_dom_classes": [],
            "_model_module": "@jupyter-widgets/controls",
            "_model_module_version": "1.5.0",
            "_model_name": "DropdownModel",
            "_options_labels": [
              "Line Chart",
              "Bar Chart"
            ],
            "_view_count": null,
            "_view_module": "@jupyter-widgets/controls",
            "_view_module_version": "1.5.0",
            "_view_name": "DropdownView",
            "description": "selected_chart_type",
            "description_tooltip": null,
            "disabled": false,
            "index": 1,
            "layout": "IPY_MODEL_8a80010397d24b2cab6d62c90317078d",
            "style": "IPY_MODEL_dbe3e1a3c388488c84c938ec1693707b"
          }
        },
        "1646ec4239794de8b20a5e41d27015e9": {
          "model_module": "@jupyter-widgets/controls",
          "model_name": "DropdownModel",
          "model_module_version": "1.5.0",
          "state": {
            "_dom_classes": [],
            "_model_module": "@jupyter-widgets/controls",
            "_model_module_version": "1.5.0",
            "_model_name": "DropdownModel",
            "_options_labels": [
              "TX.VAL.AGRI.ZS.UN",
              "TM.VAL.AGRI.ZS.UN",
              "NV.AGR.TOTL.ZS",
              "NV.AGR.TOTL.KD.ZG",
              "NV.AGR.TOTL.KD",
              "NV.AGR.TOTL.KN",
              "NV.AGR.TOTL.CN",
              "NV.AGR.TOTL.CD",
              "NV.AGR.EMPL.KD",
              "IS.AIR.GOOD.MT.K1",
              "IS.AIR.PSGR",
              "IS.AIR.DPRT",
              "ER.FSH.AQUA.MT",
              "AG.LND.ARBL.ZS",
              "AG.LND.ARBL.HA.PC",
              "AG.LND.ARBL.HA",
              "AG.LND.PRCP.MM",
              "IC.CUS.DURS.EX",
              "IC.EXP.CSBC.CD",
              "IC.IMP.CSDC.CD"
            ],
            "_view_count": null,
            "_view_module": "@jupyter-widgets/controls",
            "_view_module_version": "1.5.0",
            "_view_name": "DropdownView",
            "description": "selected_series_code",
            "description_tooltip": null,
            "disabled": false,
            "index": 4,
            "layout": "IPY_MODEL_c53a9036645f4e0c9df1865434d3f894",
            "style": "IPY_MODEL_35db4a9fffe74a4bbeedec894ed90b80"
          }
        },
        "711b16458ecf469fbc6b13646154dd3e": {
          "model_module": "@jupyter-widgets/output",
          "model_name": "OutputModel",
          "model_module_version": "1.0.0",
          "state": {
            "_dom_classes": [],
            "_model_module": "@jupyter-widgets/output",
            "_model_module_version": "1.0.0",
            "_model_name": "OutputModel",
            "_view_count": null,
            "_view_module": "@jupyter-widgets/output",
            "_view_module_version": "1.0.0",
            "_view_name": "OutputView",
            "layout": "IPY_MODEL_c379cf57eb9d408cb3f7322f25cd6bdb",
            "msg_id": "",
            "outputs": [
              {
                "output_type": "display_data",
                "data": {
                  "text/plain": "<Figure size 1000x600 with 1 Axes>",
                  "image/png": "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\n"
                },
                "metadata": {}
              }
            ]
          }
        },
        "ffc7d07bd5994212894ca603c478125d": {
          "model_module": "@jupyter-widgets/base",
          "model_name": "LayoutModel",
          "model_module_version": "1.2.0",
          "state": {
            "_model_module": "@jupyter-widgets/base",
            "_model_module_version": "1.2.0",
            "_model_name": "LayoutModel",
            "_view_count": null,
            "_view_module": "@jupyter-widgets/base",
            "_view_module_version": "1.2.0",
            "_view_name": "LayoutView",
            "align_content": null,
            "align_items": null,
            "align_self": null,
            "border": null,
            "bottom": null,
            "display": null,
            "flex": null,
            "flex_flow": null,
            "grid_area": null,
            "grid_auto_columns": null,
            "grid_auto_flow": null,
            "grid_auto_rows": null,
            "grid_column": null,
            "grid_gap": null,
            "grid_row": null,
            "grid_template_areas": null,
            "grid_template_columns": null,
            "grid_template_rows": null,
            "height": null,
            "justify_content": null,
            "justify_items": null,
            "left": null,
            "margin": null,
            "max_height": null,
            "max_width": null,
            "min_height": null,
            "min_width": null,
            "object_fit": null,
            "object_position": null,
            "order": null,
            "overflow": null,
            "overflow_x": null,
            "overflow_y": null,
            "padding": null,
            "right": null,
            "top": null,
            "visibility": null,
            "width": null
          }
        },
        "af21d33bd3534508b7b990013ea1bdde": {
          "model_module": "@jupyter-widgets/base",
          "model_name": "LayoutModel",
          "model_module_version": "1.2.0",
          "state": {
            "_model_module": "@jupyter-widgets/base",
            "_model_module_version": "1.2.0",
            "_model_name": "LayoutModel",
            "_view_count": null,
            "_view_module": "@jupyter-widgets/base",
            "_view_module_version": "1.2.0",
            "_view_name": "LayoutView",
            "align_content": null,
            "align_items": null,
            "align_self": null,
            "border": null,
            "bottom": null,
            "display": null,
            "flex": null,
            "flex_flow": null,
            "grid_area": null,
            "grid_auto_columns": null,
            "grid_auto_flow": null,
            "grid_auto_rows": null,
            "grid_column": null,
            "grid_gap": null,
            "grid_row": null,
            "grid_template_areas": null,
            "grid_template_columns": null,
            "grid_template_rows": null,
            "height": null,
            "justify_content": null,
            "justify_items": null,
            "left": null,
            "margin": null,
            "max_height": null,
            "max_width": null,
            "min_height": null,
            "min_width": null,
            "object_fit": null,
            "object_position": null,
            "order": null,
            "overflow": null,
            "overflow_x": null,
            "overflow_y": null,
            "padding": null,
            "right": null,
            "top": null,
            "visibility": null,
            "width": null
          }
        },
        "df843c73005b4d00bb2ed8a25f3b14a6": {
          "model_module": "@jupyter-widgets/controls",
          "model_name": "DescriptionStyleModel",
          "model_module_version": "1.5.0",
          "state": {
            "_model_module": "@jupyter-widgets/controls",
            "_model_module_version": "1.5.0",
            "_model_name": "DescriptionStyleModel",
            "_view_count": null,
            "_view_module": "@jupyter-widgets/base",
            "_view_module_version": "1.2.0",
            "_view_name": "StyleView",
            "description_width": ""
          }
        },
        "8a80010397d24b2cab6d62c90317078d": {
          "model_module": "@jupyter-widgets/base",
          "model_name": "LayoutModel",
          "model_module_version": "1.2.0",
          "state": {
            "_model_module": "@jupyter-widgets/base",
            "_model_module_version": "1.2.0",
            "_model_name": "LayoutModel",
            "_view_count": null,
            "_view_module": "@jupyter-widgets/base",
            "_view_module_version": "1.2.0",
            "_view_name": "LayoutView",
            "align_content": null,
            "align_items": null,
            "align_self": null,
            "border": null,
            "bottom": null,
            "display": null,
            "flex": null,
            "flex_flow": null,
            "grid_area": null,
            "grid_auto_columns": null,
            "grid_auto_flow": null,
            "grid_auto_rows": null,
            "grid_column": null,
            "grid_gap": null,
            "grid_row": null,
            "grid_template_areas": null,
            "grid_template_columns": null,
            "grid_template_rows": null,
            "height": null,
            "justify_content": null,
            "justify_items": null,
            "left": null,
            "margin": null,
            "max_height": null,
            "max_width": null,
            "min_height": null,
            "min_width": null,
            "object_fit": null,
            "object_position": null,
            "order": null,
            "overflow": null,
            "overflow_x": null,
            "overflow_y": null,
            "padding": null,
            "right": null,
            "top": null,
            "visibility": null,
            "width": null
          }
        },
        "dbe3e1a3c388488c84c938ec1693707b": {
          "model_module": "@jupyter-widgets/controls",
          "model_name": "DescriptionStyleModel",
          "model_module_version": "1.5.0",
          "state": {
            "_model_module": "@jupyter-widgets/controls",
            "_model_module_version": "1.5.0",
            "_model_name": "DescriptionStyleModel",
            "_view_count": null,
            "_view_module": "@jupyter-widgets/base",
            "_view_module_version": "1.2.0",
            "_view_name": "StyleView",
            "description_width": ""
          }
        },
        "c53a9036645f4e0c9df1865434d3f894": {
          "model_module": "@jupyter-widgets/base",
          "model_name": "LayoutModel",
          "model_module_version": "1.2.0",
          "state": {
            "_model_module": "@jupyter-widgets/base",
            "_model_module_version": "1.2.0",
            "_model_name": "LayoutModel",
            "_view_count": null,
            "_view_module": "@jupyter-widgets/base",
            "_view_module_version": "1.2.0",
            "_view_name": "LayoutView",
            "align_content": null,
            "align_items": null,
            "align_self": null,
            "border": null,
            "bottom": null,
            "display": null,
            "flex": null,
            "flex_flow": null,
            "grid_area": null,
            "grid_auto_columns": null,
            "grid_auto_flow": null,
            "grid_auto_rows": null,
            "grid_column": null,
            "grid_gap": null,
            "grid_row": null,
            "grid_template_areas": null,
            "grid_template_columns": null,
            "grid_template_rows": null,
            "height": null,
            "justify_content": null,
            "justify_items": null,
            "left": null,
            "margin": null,
            "max_height": null,
            "max_width": null,
            "min_height": null,
            "min_width": null,
            "object_fit": null,
            "object_position": null,
            "order": null,
            "overflow": null,
            "overflow_x": null,
            "overflow_y": null,
            "padding": null,
            "right": null,
            "top": null,
            "visibility": null,
            "width": null
          }
        },
        "35db4a9fffe74a4bbeedec894ed90b80": {
          "model_module": "@jupyter-widgets/controls",
          "model_name": "DescriptionStyleModel",
          "model_module_version": "1.5.0",
          "state": {
            "_model_module": "@jupyter-widgets/controls",
            "_model_module_version": "1.5.0",
            "_model_name": "DescriptionStyleModel",
            "_view_count": null,
            "_view_module": "@jupyter-widgets/base",
            "_view_module_version": "1.2.0",
            "_view_name": "StyleView",
            "description_width": ""
          }
        },
        "c379cf57eb9d408cb3f7322f25cd6bdb": {
          "model_module": "@jupyter-widgets/base",
          "model_name": "LayoutModel",
          "model_module_version": "1.2.0",
          "state": {
            "_model_module": "@jupyter-widgets/base",
            "_model_module_version": "1.2.0",
            "_model_name": "LayoutModel",
            "_view_count": null,
            "_view_module": "@jupyter-widgets/base",
            "_view_module_version": "1.2.0",
            "_view_name": "LayoutView",
            "align_content": null,
            "align_items": null,
            "align_self": null,
            "border": null,
            "bottom": null,
            "display": null,
            "flex": null,
            "flex_flow": null,
            "grid_area": null,
            "grid_auto_columns": null,
            "grid_auto_flow": null,
            "grid_auto_rows": null,
            "grid_column": null,
            "grid_gap": null,
            "grid_row": null,
            "grid_template_areas": null,
            "grid_template_columns": null,
            "grid_template_rows": null,
            "height": null,
            "justify_content": null,
            "justify_items": null,
            "left": null,
            "margin": null,
            "max_height": null,
            "max_width": null,
            "min_height": null,
            "min_width": null,
            "object_fit": null,
            "object_position": null,
            "order": null,
            "overflow": null,
            "overflow_x": null,
            "overflow_y": null,
            "padding": null,
            "right": null,
            "top": null,
            "visibility": null,
            "width": null
          }
        }
      }
    }
  },
  "cells": [
    {
      "cell_type": "markdown",
      "metadata": {
        "id": "view-in-github",
        "colab_type": "text"
      },
      "source": [
        "<a href=\"https://colab.research.google.com/github/vo-duy-huynh/python_excel/blob/main/Untitled2.ipynb\" target=\"_parent\"><img src=\"https://colab.research.google.com/assets/colab-badge.svg\" alt=\"Open In Colab\"/></a>"
      ]
    },
    {
      "cell_type": "code",
      "source": [
        "!pip install ipywidgets\n",
        "!jupyter nbextension enable --py widgetsnbextension\n",
        "!pip install matplotlib\n"
      ],
      "metadata": {
        "id": "HIDh2BnJDF3A"
      },
      "execution_count": null,
      "outputs": []
    },
    {
      "cell_type": "code",
      "source": [
        "!jupyter nbextension enable --py widgetsnbextension --sys-prefix"
      ],
      "metadata": {
        "colab": {
          "base_uri": "https://localhost:8080/"
        },
        "id": "NI4x_XlIE1ol",
        "outputId": "25dc7619-c7dc-4375-9b71-dc28f151f925"
      },
      "execution_count": null,
      "outputs": [
        {
          "output_type": "stream",
          "name": "stdout",
          "text": [
            "Enabling notebook extension jupyter-js-widgets/extension...\n",
            "Paths used for configuration of notebook: \n",
            "    \t/usr/etc/jupyter/nbconfig/notebook.json\n",
            "Paths used for configuration of notebook: \n",
            "    \t\n",
            "      - Validating: \u001b[32mOK\u001b[0m\n",
            "Paths used for configuration of notebook: \n",
            "    \t/usr/etc/jupyter/nbconfig/notebook.json\n"
          ]
        }
      ]
    },
    {
      "cell_type": "code",
      "execution_count": null,
      "metadata": {
        "id": "X28wW9W4AVrh"
      },
      "outputs": [],
      "source": [
        "import pandas as pd\n",
        "import matplotlib.pyplot as plt\n",
        "from ipywidgets import interact, widgets\n",
        "from IPython.display import display"
      ]
    },
    {
      "cell_type": "markdown",
      "source": [
        "# Mục mới"
      ],
      "metadata": {
        "id": "UZpKBzM_AXz7"
      }
    },
    {
      "cell_type": "code",
      "source": [
        "data = pd.read_excel('/content/sample_data/P_Data_Extract_From_World_Development_Indicators.xlsx')"
      ],
      "metadata": {
        "id": "gE_dwjG-AZTy"
      },
      "execution_count": null,
      "outputs": []
    },
    {
      "cell_type": "code",
      "source": [
        "print(data.shape)#in ra kích thước của dữ liệu"
      ],
      "metadata": {
        "id": "JXIUMZ2YAZii",
        "colab": {
          "base_uri": "https://localhost:8080/"
        },
        "outputId": "508d2f14-c20f-4eea-94fa-c166d8131f0d"
      },
      "execution_count": null,
      "outputs": [
        {
          "output_type": "stream",
          "name": "stdout",
          "text": [
            "(200, 15)\n"
          ]
        }
      ]
    },
    {
      "cell_type": "code",
      "source": [
        "# Hiển thị 5 dòng đầu tiên của dữ liệu\n",
        "print(data.head())"
      ],
      "metadata": {
        "id": "AlSmSSmGFLaD"
      },
      "execution_count": null,
      "outputs": []
    },
    {
      "cell_type": "code",
      "source": [
        "# Tạo hàm vẽ biểu đồ\n",
        "def plot_chart(selected_country, selected_chart_type, selected_series_code):\n",
        "    # Chọn dòng có Country Name, Series Code và loại biểu đồ như đã chọn\n",
        "    selected_data = data[(data['Country Name'] == selected_country) &\n",
        "                         (data['Series Code'] == selected_series_code)]\n",
        "\n",
        "    # Xóa cột không cần thiết\n",
        "    selected_data = selected_data.drop(\n",
        "        ['Country Name', 'Country Code', 'Series Name', 'Series Code'], axis=1)\n",
        "\n",
        "    selected_data_long = selected_data.iloc[0]\n",
        "    selected_data_long.index = selected_data_long.index.str.split(' ').str[0]\n",
        "    selected_data_long = selected_data_long.reset_index()\n",
        "    selected_data_long.columns = ['Year', 'Value']\n",
        "\n",
        "    # Vẽ biểu đồ\n",
        "    plt.figure(figsize=(10, 6))\n",
        "    if selected_chart_type == 'Line Chart':\n",
        "        plt.plot(selected_data_long['Year'], selected_data_long['Value'], marker='o')\n",
        "    elif selected_chart_type == 'Bar Chart':\n",
        "        plt.bar(selected_data_long['Year'], selected_data_long['Value'])\n",
        "    plt.title(f'{selected_country} - {selected_series_code}')\n",
        "    plt.xlabel('Year')\n",
        "    plt.ylabel('Value')\n",
        "    plt.grid(True)\n",
        "    plt.show()"
      ],
      "metadata": {
        "id": "RJoGAA-WDCC0"
      },
      "execution_count": null,
      "outputs": []
    },
    {
      "cell_type": "code",
      "source": [
        "# Liên kết hàm vẽ biểu đồ với sự kiện chọn quốc gia, loại biểu đồ, và Series Code\n",
        "interact(plot_chart, selected_country=data['Country Name'].unique(),\n",
        "         selected_chart_type=['Line Chart', 'Bar Chart'], selected_series_code=data['Series Code'].unique())\n"
      ],
      "metadata": {
        "colab": {
          "base_uri": "https://localhost:8080/",
          "height": 677,
          "referenced_widgets": [
            "6f649f81e6d14637b4f8d1e5ec5392de",
            "5b852d19dbc748dcac378a8c2d51e8e7",
            "b9243159efe2435aa185557c118a3fea",
            "1646ec4239794de8b20a5e41d27015e9",
            "711b16458ecf469fbc6b13646154dd3e",
            "ffc7d07bd5994212894ca603c478125d",
            "af21d33bd3534508b7b990013ea1bdde",
            "df843c73005b4d00bb2ed8a25f3b14a6",
            "8a80010397d24b2cab6d62c90317078d",
            "dbe3e1a3c388488c84c938ec1693707b",
            "c53a9036645f4e0c9df1865434d3f894",
            "35db4a9fffe74a4bbeedec894ed90b80",
            "c379cf57eb9d408cb3f7322f25cd6bdb"
          ]
        },
        "id": "6i2UcOu4Cgd8",
        "outputId": "2e015564-3298-41ea-da42-a37f88c3552e"
      },
      "execution_count": null,
      "outputs": [
        {
          "output_type": "display_data",
          "data": {
            "text/plain": [
              "interactive(children=(Dropdown(description='selected_country', options=('Australia', 'Argentina', 'Cambodia', …"
            ],
            "application/vnd.jupyter.widget-view+json": {
              "version_major": 2,
              "version_minor": 0,
              "model_id": "6f649f81e6d14637b4f8d1e5ec5392de"
            }
          },
          "metadata": {}
        },
        {
          "output_type": "execute_result",
          "data": {
            "text/plain": [
              "<function __main__.plot_chart(selected_country, selected_chart_type, selected_series_code)>"
            ]
          },
          "metadata": {},
          "execution_count": 39
        }
      ]
    }
  ]
}